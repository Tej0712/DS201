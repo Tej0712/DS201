{
 "cells": [
  {
   "cell_type": "code",
   "execution_count": 1,
   "metadata": {},
   "outputs": [],
   "source": [
    "import pandas as pd"
   ]
  },
  {
   "cell_type": "code",
   "execution_count": 2,
   "metadata": {},
   "outputs": [],
   "source": [
    "features=[[140,0],[130,0],[150,1],[170,1]]\n",
    "# 0=Smooth & 1=Bumpy"
   ]
  },
  {
   "cell_type": "code",
   "execution_count": 3,
   "metadata": {},
   "outputs": [],
   "source": [
    "labels=[\"Apple\",\"Apple\",\"Orange\",\"Orange\"]"
   ]
  },
  {
   "cell_type": "code",
   "execution_count": 4,
   "metadata": {},
   "outputs": [],
   "source": [
    "from sklearn import tree"
   ]
  },
  {
   "cell_type": "code",
   "execution_count": 5,
   "metadata": {},
   "outputs": [],
   "source": [
    "clf = tree.DecisionTreeClassifier()"
   ]
  },
  {
   "cell_type": "code",
   "execution_count": 6,
   "metadata": {},
   "outputs": [],
   "source": [
    "clf=clf.fit(features,labels)"
   ]
  },
  {
   "cell_type": "code",
   "execution_count": 7,
   "metadata": {},
   "outputs": [
    {
     "name": "stdout",
     "output_type": "stream",
     "text": [
      "['Orange']\n"
     ]
    }
   ],
   "source": [
    "print(clf.predict([[140,1]]))"
   ]
  },
  {
   "cell_type": "markdown",
   "metadata": {},
   "source": [
    "It is an apple if the weight is 140and bumpy skin."
   ]
  },
  {
   "cell_type": "code",
   "execution_count": 8,
   "metadata": {},
   "outputs": [
    {
     "name": "stdout",
     "output_type": "stream",
     "text": [
      "['Apple' 'Orange' 'Apple' 'Apple' 'Apple' 'Orange' 'Apple']\n"
     ]
    }
   ],
   "source": [
    "print(clf.predict([[125,0],[145,1],[170,0],[150,0],[145,0],[150,1],[146,0]]))"
   ]
  },
  {
   "cell_type": "markdown",
   "metadata": {},
   "source": [
    "The decision tree seems to prioritize weight as a critical feature for making predictions, as the majority of its decision nodes are based on this attribute. If the weight is 145 units or less, the decision tree classifies the fruit as an Apple; if the weight exceeds 145 units, it classifies the fruit as an Orange."
   ]
  },
  {
   "cell_type": "code",
   "execution_count": 9,
   "metadata": {},
   "outputs": [],
   "source": [
    "features_2=[[0,15],[0,25],[1,32],[0,40],[1,12],[1,14]]\n",
    "#0=Female & 1=Male"
   ]
  },
  {
   "cell_type": "code",
   "execution_count": 10,
   "metadata": {},
   "outputs": [],
   "source": [
    "labels_2=[\"Pokemon Go\",\"WhatsApp\",\"Snap Chat\",\"WhatsApp\",\"Pokemon Go\",\"Pokemon Go\"]"
   ]
  },
  {
   "cell_type": "code",
   "execution_count": 11,
   "metadata": {},
   "outputs": [],
   "source": [
    "clf_2=clf.fit(features_2,labels_2)"
   ]
  },
  {
   "cell_type": "code",
   "execution_count": 12,
   "metadata": {},
   "outputs": [
    {
     "name": "stdout",
     "output_type": "stream",
     "text": [
      "['Snap Chat' 'Pokemon Go']\n"
     ]
    }
   ],
   "source": [
    "print(clf_2.predict([[1,21],[0,18]]))"
   ]
  },
  {
   "cell_type": "markdown",
   "metadata": {},
   "source": [
    "The recommendation app for Gender: M, Age 21 = Snap Chat.\n",
    "The recommendation app for Gender: F, Age 18 = Pokemon Go."
   ]
  }
 ],
 "metadata": {
  "kernelspec": {
   "display_name": ".anaconda",
   "language": "python",
   "name": "python3"
  },
  "language_info": {
   "codemirror_mode": {
    "name": "ipython",
    "version": 3
   },
   "file_extension": ".py",
   "mimetype": "text/x-python",
   "name": "python",
   "nbconvert_exporter": "python",
   "pygments_lexer": "ipython3",
   "version": "3.12.2"
  }
 },
 "nbformat": 4,
 "nbformat_minor": 2
}
