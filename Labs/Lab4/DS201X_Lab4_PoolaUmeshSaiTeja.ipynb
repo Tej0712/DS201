{
 "cells": [
  {
   "cell_type": "code",
   "execution_count": 1,
   "metadata": {},
   "outputs": [
    {
     "name": "stdout",
     "output_type": "stream",
     "text": [
      "Your points: 100.0 Your letter grade: A, good job!\n",
      "Your points: 100.0 Your letter grade: A, good job!\n",
      "Grade report complete!\n"
     ]
    }
   ],
   "source": [
    "def letter_grade(final_points):\n",
    "    if final_points >= 92.5:\n",
    "        grade = 'A'\n",
    "        message = 'good job!'\n",
    "    elif final_points >= 82.5:\n",
    "        grade = 'B'\n",
    "        message = ''\n",
    "    elif final_points >= 72.5:\n",
    "        grade = 'C'\n",
    "        message = ''\n",
    "    elif final_points >= 62.5:\n",
    "        grade = 'D'\n",
    "        message = ''\n",
    "    else:\n",
    "        grade = 'F'\n",
    "        message = 'Sorry you fail'\n",
    "    \n",
    "    return final_points, grade, message\n",
    "        \n",
    "     \n",
    "def main():\n",
    "    running = True\n",
    "    while running:\n",
    "        finalPoints = eval(input(\"Enter the final score: \"))\n",
    "        final, grade, message = letter_grade(finalPoints)\n",
    "        print (f\"Your points: {final:.1f} Your letter grade: {grade}, {message}\")\n",
    "        more = input(\">>Do you have more student's Final points? \")\n",
    "        if more.lower() not in [\"yes\", \"y\", \"i do\"]:\n",
    "            print(\"Grade report complete!\")\n",
    "            break\n",
    "        else:\n",
    "            final, grade, message = letter_grade(finalPoints)\n",
    "\n",
    "if __name__ == \"__main__\":\n",
    "    main()"
   ]
  }
 ],
 "metadata": {
  "kernelspec": {
   "display_name": "Python 3",
   "language": "python",
   "name": "python3"
  },
  "language_info": {
   "codemirror_mode": {
    "name": "ipython",
    "version": 3
   },
   "file_extension": ".py",
   "mimetype": "text/x-python",
   "name": "python",
   "nbconvert_exporter": "python",
   "pygments_lexer": "ipython3",
   "version": "3.9.6"
  }
 },
 "nbformat": 4,
 "nbformat_minor": 2
}
